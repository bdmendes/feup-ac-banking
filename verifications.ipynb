{
 "cells": [
  {
   "cell_type": "markdown",
   "metadata": {},
   "source": [
    "Review Pending"
   ]
  },
  {
   "cell_type": "code",
   "execution_count": null,
   "metadata": {},
   "outputs": [],
   "source": [
    "from src.preprocess.cards import preprocess_cards\n",
    "import src.feature_engineering.merge as merge\n",
    "cards = preprocess_cards(cards)\n",
    "cards = merge.merge_card_account(cards, dispositions)\n",
    "\n",
    "cardDisp = dispositions.merge(cards, on=[\"disp_id\"])\n",
    "cardDisp.card_id.is_unique # True -> significa que só há um disponent/OWNER por card (review this)\n",
    "cardDisp.columns\n",
    "\n",
    "count_acc = len(cardDisp.index)\n",
    "count_cardDisp = len(cardDisp[cardDisp.account_id_x == cardDisp.account_id_y].index)\n",
    "if count_acc==count_cardDisp:   # maybe review this\n",
    "    print(\"iguais\")\n",
    "    cardDisp.drop('account_id_y', inplace=True, axis=1)\n",
    "    cardDisp.rename(columns = {'account_id_x':'account_id'}, inplace=True)\n",
    "\n",
    "if (cardDisp.account_id.is_unique == True):\n",
    "    # conclusion: only account owners have credit cards\n",
    "    print(\"All accounts have only a card! (And is of the acc OWNER)\")\n",
    "cardDisp"
   ]
  },
  {
   "cell_type": "markdown",
   "metadata": {},
   "source": [
    "#### Verifies if there is more than one card per account (proof follows)"
   ]
  },
  {
   "cell_type": "code",
   "execution_count": null,
   "metadata": {},
   "outputs": [],
   "source": [
    "cards_per_account = cards.groupby(['account_id']).size()\n",
    "cards_per_account[cards_per_account > 1]\n",
    "if cards_per_account[cards_per_account > 1].empty:\n",
    "    print(\"There is just one card per account!\")\n",
    "else:\n",
    "    # process data? extract feature?\n",
    "    print(\"nothing here yet\")\n",
    "\n",
    "cards.account_id.is_unique # True -> se account_id tem valores únicos, significa que só há um cartão por conta "
   ]
  },
  {
   "cell_type": "code",
   "execution_count": null,
   "metadata": {},
   "outputs": [],
   "source": [
    "# tests if there is more than one card per account (proof)\n",
    "# df = pd.DataFrame({\n",
    "#    'card_id': [1,2,3,4],\n",
    "#    'account_id': [1,1,1,2]\n",
    "# })\n",
    "# cards_per_account = df.groupby(['account_id']).size()\n",
    "# cards_per_account[cards_per_account > 1]"
   ]
  },
  {
   "cell_type": "code",
   "execution_count": null,
   "metadata": {},
   "outputs": [],
   "source": [
    "from src.preprocess.loans import preprocess_loans\n",
    "loans = preprocess_loans(loans)\n",
    "\n",
    "loanCards = loans.merge(cards, on=\"account_id\")"
   ]
  },
  {
   "cell_type": "code",
   "execution_count": null,
   "metadata": {},
   "outputs": [],
   "source": [
    "loanCards.index"
   ]
  },
  {
   "cell_type": "markdown",
   "metadata": {},
   "source": [
    "Checking if there are credit cards more recent than the loans they are associated with "
   ]
  },
  {
   "cell_type": "code",
   "execution_count": null,
   "metadata": {},
   "outputs": [],
   "source": [
    "for idx in loanCards.index:\n",
    "    if (loanCards.iloc[idx]['year'] < loanCards.iloc[idx]['card_year']):\n",
    "        print(\"Found!\")\n",
    "        print(\"loan yy/mm/dd: \", loanCards.iloc[idx]['year'], \"/ \" , loanCards.iloc[idx]['month'],\"/ \", loanCards.iloc[idx]['day'], \"vs acc yy/mm/dd: \", loanCards.iloc[idx]['card_year'], \"/ \", loanCards.iloc[idx]['card_month'], \"/ \",loanCards.iloc[idx]['card_day'])\n",
    "    else:\n",
    "        if (loanCards.iloc[idx]['year'] == loanCards.iloc[idx]['card_year']):\n",
    "            if (loanCards.iloc[idx]['month'] < loanCards.iloc[idx]['card_month']):\n",
    "                print(\"Found!\")\n",
    "                print(\"loan yy/mm/dd: \", loanCards.iloc[idx]['year'], \"/ \" , loanCards.iloc[idx]['month'],\"/ \", loanCards.iloc[idx]['day'], \"vs acc yy/mm/dd: \", loanCards.iloc[idx]['card_year'], \"/ \", loanCards.iloc[idx]['card_month'], \"/ \",loanCards.iloc[idx]['card_day'])\n",
    "            else:\n",
    "                if (loanCards.iloc[idx]['month'] == loanCards.iloc[idx]['card_month']):\n",
    "                    if (loanCards.iloc[idx]['day'] < loanCards.iloc[idx]['card_day']):\n",
    "                        print(\"Found!\")\n",
    "                        print(\"loan yy/mm/dd: \", loanCards.iloc[idx]['year'], \"/ \" , loanCards.iloc[idx]['month'],\"/ \", loanCards.iloc[idx]['day'], \"vs acc yy/mm/dd: \", loanCards.iloc[idx]['card_year'], \"/ \", loanCards.iloc[idx]['card_month'], \"/ \",loanCards.iloc[idx]['card_day'])"
   ]
  },
  {
   "cell_type": "markdown",
   "metadata": {},
   "source": [
    "###### It can be concluded that there isn't any credit card more recent than the loan it is associated with"
   ]
  }
 ],
 "metadata": {
  "kernelspec": {
   "display_name": "Python 3.11.0 64-bit",
   "language": "python",
   "name": "python3"
  },
  "language_info": {
   "name": "python",
   "version": "3.11.0"
  },
  "orig_nbformat": 4,
  "vscode": {
   "interpreter": {
    "hash": "c261aea317cc0286b3b3261fbba9abdec21eaa57589985bb7a274bf54d6cc0a7"
   }
  }
 },
 "nbformat": 4,
 "nbformat_minor": 2
}
