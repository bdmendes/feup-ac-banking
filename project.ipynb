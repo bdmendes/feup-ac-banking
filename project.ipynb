{
 "cells": [
  {
   "cell_type": "markdown",
   "metadata": {},
   "source": [
    "# FEUP - AC\n",
    "## Banking - Predicting a Loan Outcome"
   ]
  },
  {
   "cell_type": "markdown",
   "metadata": {},
   "source": [
    "### Understanding the problem in hands\n",
    "\n",
    "Text"
   ]
  },
  {
   "cell_type": "code",
   "execution_count": 42,
   "metadata": {},
   "outputs": [
    {
     "name": "stdout",
     "output_type": "stream",
     "text": [
      "     loan_id  account_id    date  amount  duration  payments  status\n",
      "0       5314        1787  930705   96396        12      8033      -1\n",
      "1       5316        1801  930711  165960        36      4610       1\n",
      "2       6863        9188  930728  127080        60      2118       1\n",
      "3       5325        1843  930803  105804        36      2939       1\n",
      "4       7240       11013  930906  274740        60      4579       1\n",
      "..       ...         ...     ...     ...       ...       ...     ...\n",
      "323     6818        9030  961212  155616        48      3242       1\n",
      "324     5625        3189  961215  222180        60      3703      -1\n",
      "325     6805        8972  961221   45024        48       938       1\n",
      "326     7233       10963  961225  115812        36      3217       1\n",
      "327     7308       11362  961227  129408        24      5392       1\n",
      "\n",
      "[328 rows x 7 columns]\n"
     ]
    },
    {
     "name": "stderr",
     "output_type": "stream",
     "text": [
      "/tmp/ipykernel_8506/3455949170.py:13: DtypeWarning: Columns (8) have mixed types. Specify dtype option on import or set low_memory=False.\n",
      "  transactions = pd.read_csv(DATA_SOURCE + 'trans_dev.csv', sep=';')\n"
     ]
    }
   ],
   "source": [
    "import pandas as pd\n",
    "import numpy as np\n",
    "\n",
    "DATA_SOURCE = 'data/'\n",
    "\n",
    "# Read in the data\n",
    "accounts = pd.read_csv(DATA_SOURCE + 'account.csv', sep=';')\n",
    "cards = pd.read_csv(DATA_SOURCE + 'card_dev.csv', sep=';')\n",
    "clients = pd.read_csv(DATA_SOURCE + 'client.csv', sep=';')\n",
    "disp = pd.read_csv(DATA_SOURCE + 'disp.csv', sep=';')\n",
    "districts = pd.read_csv(DATA_SOURCE + 'district.csv', sep=';')\n",
    "loans = pd.read_csv(DATA_SOURCE + 'loan_dev.csv', sep=';')\n",
    "transactions = pd.read_csv(DATA_SOURCE + 'trans_dev.csv', sep=';')\n",
    "\n",
    "print(loans)"
   ]
  },
  {
   "cell_type": "markdown",
   "metadata": {},
   "source": [
    "# Splitting the data for training\n",
    "\n",
    "Text"
   ]
  },
  {
   "cell_type": "code",
   "execution_count": 43,
   "metadata": {},
   "outputs": [],
   "source": [
    "from sklearn.model_selection import train_test_split\n",
    "\n",
    "target = loans.status.values\n",
    "independent = loans.drop('status', axis=1).values\n",
    "\n",
    "# Make sure to split by future date later...\n",
    "x_train, x_test, y_train, y_test = train_test_split(\n",
    "        independent, target, test_size=0.2)"
   ]
  },
  {
   "cell_type": "markdown",
   "metadata": {},
   "source": [
    "### Training the model\n",
    "\n",
    "Evaluate classification model performance with loans table"
   ]
  },
  {
   "cell_type": "code",
   "execution_count": 65,
   "metadata": {},
   "outputs": [
    {
     "name": "stdout",
     "output_type": "stream",
     "text": [
      "0.2727272727272727\n"
     ]
    }
   ],
   "source": [
    "from sklearn.ensemble import RandomForestClassifier\n",
    "from sklearn.metrics import recall_score\n",
    "\n",
    "# Create a Random Forest Model\n",
    "random_classifier = RandomForestClassifier(\n",
    "    n_estimators=100)\n",
    "\n",
    "# Train it with data\n",
    "random_classifier.fit(x_train, y_train)\n",
    "\n",
    "# Predict the test data\n",
    "predictions = random_classifier.predict(x_test)\n",
    "\n",
    "# Check the accuracy\n",
    "print(recall_score(y_test, predictions, pos_label=-1))"
   ]
  }
 ],
 "metadata": {
  "kernelspec": {
   "display_name": "Python 3.10.7 64-bit",
   "language": "python",
   "name": "python3"
  },
  "language_info": {
   "codemirror_mode": {
    "name": "ipython",
    "version": 3
   },
   "file_extension": ".py",
   "mimetype": "text/x-python",
   "name": "python",
   "nbconvert_exporter": "python",
   "pygments_lexer": "ipython3",
   "version": "3.10.7"
  },
  "orig_nbformat": 4,
  "vscode": {
   "interpreter": {
    "hash": "e7370f93d1d0cde622a1f8e1c04877d8463912d04d973331ad4851f04de6915a"
   }
  }
 },
 "nbformat": 4,
 "nbformat_minor": 2
}
